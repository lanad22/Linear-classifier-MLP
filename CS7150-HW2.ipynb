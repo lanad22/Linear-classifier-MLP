{
 "cells": [
  {
   "cell_type": "markdown",
   "metadata": {},
   "source": [
    "### Download data"
   ]
  },
  {
   "cell_type": "code",
   "execution_count": 1,
   "metadata": {},
   "outputs": [
    {
     "name": "stderr",
     "output_type": "stream",
     "text": [
      "/Users/Lanado/anaconda3/envs/my_env/lib/python3.9/site-packages/tqdm/auto.py:21: TqdmWarning: IProgress not found. Please update jupyter and ipywidgets. See https://ipywidgets.readthedocs.io/en/stable/user_install.html\n",
      "  from .autonotebook import tqdm as notebook_tqdm\n"
     ]
    }
   ],
   "source": [
    "import torch\n",
    "from torchvision import datasets, transforms\n",
    "transform = transforms.Compose([\n",
    "    transforms.ToTensor(),\n",
    "    transforms.Normalize((0.5,), (0.5,))  # Normalize the images\n",
    "])\n",
    "\n",
    "train_all = datasets . MNIST ('../ data', train =True , download = True, transform=transform ) # 60K images\n",
    "train_data , val_data = torch . utils . data . random_split (\n",
    "train_all , [50000 , 10000 ], torch . Generator () . manual_seed (0 )) # train : 50K ; val : 10K\n",
    "test_data = datasets . MNIST ('../ data', train = False, download = True, transform=transform ) # test : 10K"
   ]
  },
  {
   "cell_type": "markdown",
   "metadata": {},
   "source": [
    "### Load data"
   ]
  },
  {
   "cell_type": "code",
   "execution_count": 2,
   "metadata": {},
   "outputs": [],
   "source": [
    "from torch.utils.data import DataLoader, random_split\n",
    "train_loader = DataLoader(train_data, batch_size=64, shuffle=True)\n",
    "val_loader = DataLoader(val_data, batch_size=64, shuffle=False)\n",
    "test_loader = DataLoader(test_data, batch_size=64, shuffle=False)"
   ]
  },
  {
   "cell_type": "markdown",
   "metadata": {},
   "source": [
    "## Part 1: 10-class softmax classifer"
   ]
  },
  {
   "cell_type": "code",
   "execution_count": 3,
   "metadata": {},
   "outputs": [],
   "source": [
    "import torch.nn as nn\n",
    "class SoftmaxClassifier(nn.Module):\n",
    "    def __init__(self):\n",
    "        super(SoftmaxClassifier, self).__init__()\n",
    "        self.flatten = nn.Flatten()\n",
    "        self.linear = nn.Linear(28*28, 10)\n",
    "\n",
    "    def forward(self, x):\n",
    "        x = self.flatten(x)\n",
    "        x = self.linear(x)\n",
    "        return x\n",
    "\n",
    "model = SoftmaxClassifier()"
   ]
  },
  {
   "cell_type": "markdown",
   "metadata": {},
   "source": [
    "#### Train classifier via gradient descent"
   ]
  },
  {
   "cell_type": "code",
   "execution_count": 4,
   "metadata": {},
   "outputs": [],
   "source": [
    "import torch.optim as optim\n",
    "criterion = nn.CrossEntropyLoss()\n",
    "optimizer = optim.SGD(model.parameters(), lr=0.01)\n",
    "\n",
    "# Training function\n",
    "def train(dataloader, model, loss_fn, optimizer):\n",
    "    model.train()\n",
    "    for batch, (X, y) in enumerate(dataloader):\n",
    "        pred = model(X)\n",
    "        loss = loss_fn(pred, y)\n",
    "\n",
    "        optimizer.zero_grad()\n",
    "        loss.backward()\n",
    "        optimizer.step()\n"
   ]
  },
  {
   "cell_type": "code",
   "execution_count": 5,
   "metadata": {},
   "outputs": [],
   "source": [
    "for epoch in range(10):  # number of epochs\n",
    "    train(train_loader, model, criterion, optimizer)\n"
   ]
  },
  {
   "cell_type": "markdown",
   "metadata": {},
   "source": [
    "#### Report accuracy"
   ]
  },
  {
   "cell_type": "code",
   "execution_count": 13,
   "metadata": {},
   "outputs": [
    {
     "name": "stdout",
     "output_type": "stream",
     "text": [
      "Test Accuracy:  91.29400634765625%\n"
     ]
    }
   ],
   "source": [
    "import torchmetrics\n",
    "def test(dataloader, model):\n",
    "    model.eval()\n",
    "    accuracy = torchmetrics.Accuracy(num_classes=10, average='macro', task='multiclass')\n",
    "    with torch.no_grad():\n",
    "        for X, y in dataloader:\n",
    "            pred = model(X)\n",
    "            accuracy.update(pred, y)\n",
    "    return accuracy\n",
    "    \n",
    "\n",
    "# Evaluate on test data\n",
    "accuracy = test(test_loader, model)\n",
    "print(f\"Test Accuracy: {(100 * accuracy.compute()): }%\")"
   ]
  },
  {
   "cell_type": "markdown",
   "metadata": {},
   "source": [
    "## Part 2: Hidden units, using ReLU as the activation function"
   ]
  },
  {
   "cell_type": "code",
   "execution_count": 7,
   "metadata": {},
   "outputs": [],
   "source": [
    "class NeuralNetwork(nn.Module):\n",
    "    def __init__(self):\n",
    "        super(NeuralNetwork, self).__init__()\n",
    "        self.flatten = nn.Flatten()\n",
    "        self.linear_relu_stack = nn.Sequential(\n",
    "            nn.Linear(28*28, 1024),\n",
    "            nn.ReLU(),\n",
    "            nn.Linear(1024, 10)\n",
    "        )\n",
    "\n",
    "\n",
    "    def forward(self, x):\n",
    "        x = self.flatten(x)\n",
    "        logits = self.linear_relu_stack(x)\n",
    "        return logits\n",
    "\n",
    "\n",
    "new_model = NeuralNetwork()"
   ]
  },
  {
   "cell_type": "markdown",
   "metadata": {},
   "source": [
    "#### Train new model"
   ]
  },
  {
   "cell_type": "code",
   "execution_count": 8,
   "metadata": {},
   "outputs": [],
   "source": [
    "train_loader = DataLoader(train_data, batch_size=64, shuffle=True)\n",
    "val_loader = DataLoader(val_data, batch_size=64, shuffle=False)\n",
    "test_loader = DataLoader(test_data, batch_size=64, shuffle=False)\n",
    "new_optimizer = optim.SGD(new_model.parameters(), lr=0.01)\n",
    "for epoch in range(10):  # number of epochs\n",
    "    train(train_loader, new_model, criterion, new_optimizer)"
   ]
  },
  {
   "cell_type": "markdown",
   "metadata": {},
   "source": [
    "#### Report accuracy"
   ]
  },
  {
   "cell_type": "code",
   "execution_count": 18,
   "metadata": {},
   "outputs": [
    {
     "name": "stdout",
     "output_type": "stream",
     "text": [
      "Test Accuracy:  94.45227813720703%\n"
     ]
    }
   ],
   "source": [
    "accuracies = [test(test_loader, new_model).compute()]\n",
    "print(f\"Test Accuracy: {(100 * accuracies[0]): }%\")"
   ]
  },
  {
   "cell_type": "markdown",
   "metadata": {},
   "source": [
    "Notice the model with hidden layer has a higher accuracy compared to our first model. A softmax classifier without a hidden layer is essentially a linear model, which may not be sufficient to capture the complexities and variations in the handwritten digits. By adding a hidden layer, we increase the model's complexity, enabling it to learn more nuanced patterns in the data, like the curves and intersections in handwritten digits. By incorporating non-linear activation functions like ReLU in the hidden layer, the model can learn non-linear relationships. The hidden layer also helps in features transformation, converting the raw pixel values into a more abstract representation that captures the essence of the digits. For instance, the hidden layer might learn to identify important features like edges, curves, and angles, which are crucial in distinguishing between digits."
   ]
  },
  {
   "cell_type": "markdown",
   "metadata": {},
   "source": [
    "## Part 3: Number of hidden units per layer"
   ]
  },
  {
   "cell_type": "markdown",
   "metadata": {},
   "source": [
    "1. The input-to-first-hidden-layer weight matrix has dimensions $28 * 28 = 784$ by the number of hidden units, $U$.\n",
    "2. Each subsequent hidden layer has a weight matrix of $U * U$ as each layer is fully connected to the next.\n",
    "3. Each hidden layer has a bias term for each of its $U$ units. \n",
    "4. The final layer (softmax classifier) has a weight matrix of $U * 10$ and a bias of $10$.\n",
    "\n",
    "- First term gives the parameters in the input-to-first-hidden-layer weight matrix -> $784 * U$\n",
    "- Second term gives the parameters in the hidden-to-hidden layer weight matrices for $L$ layers ->  $L$ * $U^{2}$\n",
    "- Third term gives the parameters in hidden layer bias for $L$ layers -> $L$ * $U$\n",
    "- Fourth term gives the parameters in the softmax classifier: $U * 10 + 10$\n",
    "\n",
    "Summing all the terms we get: \n",
    "\n",
    "$784U + LU^{2} + LU + U * 10 + 10 = 814,090$ (keeping the same number of parameters given)\n",
    "\n",
    "$LU^{2} + (784 + L + 10)U + 10 - 814,090 = 0$\n",
    "\n",
    "$LU^{2} + (794 + L)U - 814,080 = 0$\n",
    "\n",
    "Applying quadratic equation $aU^{2} + bU + c = 0$ in which\n",
    "$\n",
    "U = \\frac{-b \\pm \\sqrt{b^2 - 4ac}}{2a}\n",
    "$\n",
    "\n",
    "\n",
    "Pluggin in, we have\n",
    "\n",
    "$$\n",
    "U = \\frac{-(794 + L) \\pm \\sqrt{(794 + L)^2 + 4*L*814,080}}{2L}\n",
    "$$\n",
    "\n",
    "We will only take positive root of the square root $ \\sqrt{b^2 - 4ac}$, and after calculating $U$, we will only keep the positive value as well as rounding up to the nearest integer as it represents the number of hidden units. This the derived number of  number of hidden units per layer as a function of $L$."
   ]
  },
  {
   "cell_type": "markdown",
   "metadata": {},
   "source": [
    "## Part 4: MLP Model with different number of layers"
   ]
  },
  {
   "cell_type": "code",
   "execution_count": 10,
   "metadata": {},
   "outputs": [],
   "source": [
    "def build_model(L):\n",
    "    layers = [nn.Flatten(), nn.Linear(28*28, 1024), nn.ReLU()]\n",
    "    for _ in range(L - 1):\n",
    "        layers += [nn.Linear(1024, 1024), nn.ReLU()]\n",
    "    layers += [nn.Linear(1024, 10)]  # Output layer\n",
    "    return nn.Sequential(*layers)"
   ]
  },
  {
   "cell_type": "code",
   "execution_count": 11,
   "metadata": {},
   "outputs": [],
   "source": [
    "def train_model(model, train_loader, criterion, optimizer, num_epochs=10):\n",
    "    for epoch in range(num_epochs):\n",
    "        model.train()\n",
    "        total_loss = 0\n",
    "        for data, target in train_loader:\n",
    "            optimizer.zero_grad()\n",
    "            output = model(data)\n",
    "            loss = criterion(output, target)\n",
    "            loss.backward()\n",
    "            optimizer.step()\n",
    "            total_loss += loss.item()\n",
    "        print(f\"Epoch {epoch+1}/{num_epochs}, Loss: {total_loss/len(train_loader)}\")\n"
   ]
  },
  {
   "cell_type": "code",
   "execution_count": 19,
   "metadata": {},
   "outputs": [
    {
     "name": "stdout",
     "output_type": "stream",
     "text": [
      "Training model with 2 hidden layers\n",
      "Epoch 1/10, Loss: 0.9166927490659686\n",
      "Epoch 2/10, Loss: 0.36894990213196294\n",
      "Epoch 3/10, Loss: 0.31268416867231774\n",
      "Epoch 4/10, Loss: 0.28063612331248\n",
      "Epoch 5/10, Loss: 0.2547606171949593\n",
      "Epoch 6/10, Loss: 0.2324313048721122\n",
      "Epoch 7/10, Loss: 0.21242712552437698\n",
      "Epoch 8/10, Loss: 0.19445851639084652\n",
      "Epoch 9/10, Loss: 0.17946789455135612\n",
      "Epoch 10/10, Loss: 0.16587445467396084\n",
      "Test Accuracy for L=2: 94.75%\n",
      "\n",
      "Training model with 3 hidden layers\n",
      "Epoch 1/10, Loss: 1.2460514711754402\n",
      "Epoch 2/10, Loss: 0.401730692962094\n",
      "Epoch 3/10, Loss: 0.3228894882189953\n",
      "Epoch 4/10, Loss: 0.28221204427197155\n",
      "Epoch 5/10, Loss: 0.25262345509398776\n",
      "Epoch 6/10, Loss: 0.2258174107660113\n",
      "Epoch 7/10, Loss: 0.2044837485732096\n",
      "Epoch 8/10, Loss: 0.1845910330172009\n",
      "Epoch 9/10, Loss: 0.16807966187710652\n",
      "Epoch 10/10, Loss: 0.15302764068898336\n",
      "Test Accuracy for L=3: 95.32%\n",
      "\n",
      "Training model with 4 hidden layers\n",
      "Epoch 1/10, Loss: 1.8117488581506187\n",
      "Epoch 2/10, Loss: 0.516696341183332\n",
      "Epoch 3/10, Loss: 0.36510799714671377\n",
      "Epoch 4/10, Loss: 0.30624838834604645\n",
      "Epoch 5/10, Loss: 0.2664026777495814\n",
      "Epoch 6/10, Loss: 0.23206627952015918\n",
      "Epoch 7/10, Loss: 0.20387656025378906\n",
      "Epoch 8/10, Loss: 0.1794234368845325\n",
      "Epoch 9/10, Loss: 0.1596631496249105\n",
      "Epoch 10/10, Loss: 0.14278990719610316\n",
      "Test Accuracy for L=4: 95.65%\n",
      "\n",
      "Training model with 5 hidden layers\n",
      "Epoch 1/10, Loss: 2.2812669219263375\n",
      "Epoch 2/10, Loss: 1.3523279133888766\n",
      "Epoch 3/10, Loss: 0.5465709108792608\n",
      "Epoch 4/10, Loss: 0.3805820898002828\n",
      "Epoch 5/10, Loss: 0.30215840468473754\n",
      "Epoch 6/10, Loss: 0.25089832957919755\n",
      "Epoch 7/10, Loss: 0.2097323928028345\n",
      "Epoch 8/10, Loss: 0.17759654685245146\n",
      "Epoch 9/10, Loss: 0.15327700939925049\n",
      "Epoch 10/10, Loss: 0.13526832777292222\n",
      "Test Accuracy for L=5: 95.11%\n",
      "\n",
      "Training model with 6 hidden layers\n",
      "Epoch 1/10, Loss: 2.29827852078411\n",
      "Epoch 2/10, Loss: 2.274389675511119\n",
      "Epoch 3/10, Loss: 1.5164757698698117\n",
      "Epoch 4/10, Loss: 0.6312956624018872\n",
      "Epoch 5/10, Loss: 0.42892571304307875\n",
      "Epoch 6/10, Loss: 0.311039341408807\n",
      "Epoch 7/10, Loss: 0.23760994870091795\n",
      "Epoch 8/10, Loss: 0.19302610063072664\n",
      "Epoch 9/10, Loss: 0.16071927255433996\n",
      "Epoch 10/10, Loss: 0.13699696230275743\n",
      "Test Accuracy for L=6: 95.99%\n",
      "\n",
      "Training model with 7 hidden layers\n",
      "Epoch 1/10, Loss: 2.30127873445106\n",
      "Epoch 2/10, Loss: 2.299289392083502\n",
      "Epoch 3/10, Loss: 2.296223889531382\n",
      "Epoch 4/10, Loss: 2.2824519028139236\n",
      "Epoch 5/10, Loss: 1.8705943543892687\n",
      "Epoch 6/10, Loss: 1.025149624975746\n",
      "Epoch 7/10, Loss: 0.5560130602525323\n",
      "Epoch 8/10, Loss: 0.36808799282478555\n",
      "Epoch 9/10, Loss: 0.28124381024438094\n",
      "Epoch 10/10, Loss: 0.21993176849163554\n",
      "Test Accuracy for L=7: 90.28%\n",
      "\n",
      "Training model with 8 hidden layers\n",
      "Epoch 1/10, Loss: 2.3018503951294647\n",
      "Epoch 2/10, Loss: 2.3009525531393185\n",
      "Epoch 3/10, Loss: 2.3006961184084567\n",
      "Epoch 4/10, Loss: 2.3004489887096082\n",
      "Epoch 5/10, Loss: 2.300120511628173\n",
      "Epoch 6/10, Loss: 2.299609573600847\n",
      "Epoch 7/10, Loss: 2.298659613980052\n",
      "Epoch 8/10, Loss: 2.296431939620191\n",
      "Epoch 9/10, Loss: 2.2865986272197247\n",
      "Epoch 10/10, Loss: 2.067181142394805\n",
      "Test Accuracy for L=8: 25.60%\n",
      "\n"
     ]
    }
   ],
   "source": [
    "train_loader = DataLoader(train_data, batch_size=64, shuffle=True)\n",
    "test_loader = DataLoader(test_data, batch_size=64, shuffle=False)\n",
    "\n",
    "# Train and evaluate the model with different L\n",
    "num_hidden_layers = [2, 3, 4, 5, 6, 7, 8]\n",
    "for L in num_hidden_layers:\n",
    "    print(f\"Training model with {L} hidden layers\")\n",
    "    MLP_model = build_model(L)\n",
    "    criterion = nn.CrossEntropyLoss()\n",
    "    optimizer = optim.SGD(MLP_model.parameters(), lr=0.01)\n",
    "    train_model(MLP_model, train_loader, criterion, optimizer)\n",
    "    #accuracy = evaluate_model(model, test_loader)\n",
    "    accuracy = test(test_loader, MLP_model).compute()\n",
    "    accuracies.append(accuracy)\n",
    "    print(f\"Test Accuracy for L={L}: {accuracy * 100:.2f}%\\n\")"
   ]
  },
  {
   "cell_type": "code",
   "execution_count": 23,
   "metadata": {},
   "outputs": [
    {
     "name": "stdout",
     "output_type": "stream",
     "text": [
      "[tensor(0.9445), tensor(0.9475), tensor(0.9532), tensor(0.9565), tensor(0.9511), tensor(0.9599), tensor(0.9028), tensor(0.2560)]\n"
     ]
    },
    {
     "data": {
      "image/png": "[encoded data removed]",
      "text/plain": [
       "<Figure size 640x480 with 1 Axes>"
      ]
     },
     "metadata": {},
     "output_type": "display_data"
    }
   ],
   "source": [
    "import matplotlib.pyplot as plt\n",
    "print(accuracies)\n",
    "plt.plot(range(1, 9), accuracies, marker='o')\n",
    "plt.xlabel('Number of Hidden Layers (L)')\n",
    "plt.ylabel('Test Accuracy')\n",
    "plt.title('Test Accuracy vs. Number of Hidden Layers')\n",
    "plt.show()"
   ]
  },
  {
   "cell_type": "markdown",
   "metadata": {},
   "source": [
    "From the 1st to 4th layer, we can see the increase in accuracy, however after the 4th layer, accuracy slightly dips down but comes back up again on 6th layer. It reports the highest accuracy at layer 6 of 95.99%. However, at layer 7th, the accuracy falls even lower compare to 1 layer. Then at layer 8th, the accuracy is at its lower only 25.60% which is a huge decrease from all the other layers that we tested. \n",
    "\n",
    "We can conclude that increasing the number of hidden layers does not always mean increasing the accuracy of the model. Especially with a high number of hidden layers, it can cause overfitting and other optimization challenges. As the depth of the network increases, the model becomes more complex and capable of learning fine-grained details in the training data, but poorly on unseen data (test data). Deeper networks can also be harder to optimize. They have more parameters and can get stuck in suboptimal regions of the parameter space (like local minima or saddle points)."
   ]
  }
 ],
 "metadata": {
  "kernelspec": {
   "display_name": "base",
   "language": "python",
   "name": "python3"
  },
  "language_info": {
   "codemirror_mode": {
    "name": "ipython",
    "version": 3
   },
   "file_extension": ".py",
   "mimetype": "text/x-python",
   "name": "python",
   "nbconvert_exporter": "python",
   "pygments_lexer": "ipython3",
   "version": "3.9.18"
  }
 },
 "nbformat": 4,
 "nbformat_minor": 2
}
